{
 "cells": [
  {
   "cell_type": "code",
   "execution_count": 1,
   "metadata": {},
   "outputs": [],
   "source": [
    "import numpy as np"
   ]
  },
  {
   "cell_type": "code",
   "execution_count": 3,
   "metadata": {},
   "outputs": [],
   "source": [
    "N= 100\n",
    "D=2\n"
   ]
  },
  {
   "cell_type": "code",
   "execution_count": 6,
   "metadata": {},
   "outputs": [],
   "source": [
    "X = np.random.randn(N,D)"
   ]
  },
  {
   "cell_type": "code",
   "execution_count": 7,
   "metadata": {},
   "outputs": [],
   "source": [
    "ones = np.array([[1]*N]).T"
   ]
  },
  {
   "cell_type": "code",
   "execution_count": 8,
   "metadata": {},
   "outputs": [],
   "source": [
    "Xb = np.concatenate((ones,X),axis=1)"
   ]
  },
  {
   "cell_type": "code",
   "execution_count": 9,
   "metadata": {},
   "outputs": [],
   "source": [
    "w=np.random.randn(D+1)"
   ]
  },
  {
   "cell_type": "code",
   "execution_count": 10,
   "metadata": {},
   "outputs": [],
   "source": [
    "z = Xb.dot(w)"
   ]
  },
  {
   "cell_type": "code",
   "execution_count": 11,
   "metadata": {},
   "outputs": [
    {
     "data": {
      "text/plain": [
       "(100,)"
      ]
     },
     "execution_count": 11,
     "metadata": {},
     "output_type": "execute_result"
    }
   ],
   "source": [
    "z.shape"
   ]
  },
  {
   "cell_type": "code",
   "execution_count": 12,
   "metadata": {},
   "outputs": [],
   "source": [
    "def sigmoid(z):\n",
    "    return 1/(1+np.exp(-z))"
   ]
  },
  {
   "cell_type": "code",
   "execution_count": 14,
   "metadata": {},
   "outputs": [
    {
     "name": "stdout",
     "output_type": "stream",
     "text": [
      "[0.32056888 0.32761869 0.507701   0.57458722 0.26746373 0.00683397\n",
      " 0.27836561 0.02894639 0.06264749 0.30340811 0.35136523 0.02799207\n",
      " 0.13621123 0.52927779 0.11518648 0.05447094 0.6594123  0.21069963\n",
      " 0.73111728 0.80297896 0.29077248 0.23189128 0.85013351 0.08907053\n",
      " 0.07637104 0.30308091 0.42108807 0.90219649 0.27362517 0.63329283\n",
      " 0.98642465 0.00173552 0.58324261 0.90646566 0.71083325 0.93043068\n",
      " 0.06480699 0.63003186 0.39555398 0.67179842 0.38908316 0.50432856\n",
      " 0.23647418 0.02567098 0.72115291 0.1208786  0.36648373 0.77022843\n",
      " 0.00414571 0.8257639  0.33698771 0.03939066 0.32855809 0.29601056\n",
      " 0.1594833  0.82212804 0.32976515 0.16100635 0.2069015  0.13924053\n",
      " 0.13411328 0.02030739 0.06686282 0.32063209 0.27361715 0.96497113\n",
      " 0.04291351 0.98294255 0.18590995 0.74444603 0.13462274 0.82017063\n",
      " 0.06504239 0.94854041 0.85511771 0.01623533 0.56685112 0.12597831\n",
      " 0.85951737 0.04828606 0.62884703 0.73090152 0.39697315 0.07215485\n",
      " 0.44105535 0.25629811 0.121148   0.62518909 0.86319048 0.25277514\n",
      " 0.34851925 0.53351678 0.95351605 0.73561061 0.02330343 0.0252433\n",
      " 0.54215074 0.74404881 0.06863156 0.55156433]\n"
     ]
    }
   ],
   "source": [
    "print(sigmoid(z))"
   ]
  },
  {
   "cell_type": "code",
   "execution_count": null,
   "metadata": {},
   "outputs": [],
   "source": []
  },
  {
   "cell_type": "code",
   "execution_count": null,
   "metadata": {},
   "outputs": [],
   "source": []
  }
 ],
 "metadata": {
  "kernelspec": {
   "display_name": "Python 3",
   "language": "python",
   "name": "python3"
  },
  "language_info": {
   "codemirror_mode": {
    "name": "ipython",
    "version": 3
   },
   "file_extension": ".py",
   "mimetype": "text/x-python",
   "name": "python",
   "nbconvert_exporter": "python",
   "pygments_lexer": "ipython3",
   "version": "3.7.2"
  }
 },
 "nbformat": 4,
 "nbformat_minor": 2
}
